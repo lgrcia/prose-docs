{
 "cells": [
  {
   "cell_type": "markdown",
   "id": "assured-marina",
   "metadata": {},
   "source": [
    "# Reports"
   ]
  },
  {
   "cell_type": "markdown",
   "id": "rising-honolulu",
   "metadata": {},
   "source": [
    "To communicate results, one might need to produce pdf reports out of observations. *prose* features auto-generated  $\\LaTeX$ reports from `Observation` objects."
   ]
  },
  {
   "cell_type": "markdown",
   "id": "global-explosion",
   "metadata": {},
   "source": [
    "## Loading the phot"
   ]
  },
  {
   "cell_type": "markdown",
   "id": "owned-notebook",
   "metadata": {},
   "source": [
    "Let's firts load some data you might have used or generated in previous tutorials (in my case I take the `.phot` we produced [here](./photometry.ipynb))"
   ]
  },
  {
   "cell_type": "code",
   "execution_count": 1,
   "id": "absent-transcription",
   "metadata": {
    "execution": {
     "iopub.execute_input": "2022-09-08T14:33:53.146865Z",
     "iopub.status.busy": "2022-09-08T14:33:53.146522Z",
     "iopub.status.idle": "2022-09-08T14:33:55.943390Z",
     "shell.execute_reply": "2022-09-08T14:33:55.943090Z"
    },
    "tags": []
   },
   "outputs": [
    {
     "data": {
      "image/png": "[encoded data removed]",
      "text/plain": [
       "<Figure size 432x288 with 1 Axes>"
      ]
     },
     "metadata": {
      "needs_background": "light"
     },
     "output_type": "display_data"
    }
   ],
   "source": [
    "from prose import Observation\n",
    "import matplotlib.pyplot as plt\n",
    "\n",
    "obs = Observation(\"static/example.phot\")\n",
    "obs.plot()\n",
    "_ = plt.ylim(0.98, 1.02)"
   ]
  },
  {
   "cell_type": "markdown",
   "id": "classified-speaker",
   "metadata": {},
   "source": [
    "## Basic Summary report"
   ]
  },
  {
   "cell_type": "markdown",
   "id": "meaning-winner",
   "metadata": {},
   "source": [
    "You can produce many reports in prose and arange them into the `Report` object so that they are all contained in a single  $\\LaTeX$/PDF. We will make a report out of the very basic `Summary` template, which namely shows a summary of the observation:"
   ]
  },
  {
   "cell_type": "code",
   "execution_count": 2,
   "id": "fancy-obligation",
   "metadata": {
    "execution": {
     "iopub.execute_input": "2022-09-08T14:33:55.945101Z",
     "iopub.status.busy": "2022-09-08T14:33:55.944980Z",
     "iopub.status.idle": "2022-09-08T14:33:59.381656Z",
     "shell.execute_reply": "2022-09-08T14:33:59.381271Z"
    },
    "tags": []
   },
   "outputs": [
    {
     "name": "stdout",
     "output_type": "stream",
     "text": [
      "making summary ...\n"
     ]
    }
   ],
   "source": [
    "from prose.reports import Report, Summary\n",
    "\n",
    "# The summary template\n",
    "summary = Summary(obs)\n",
    "\n",
    "# The report\n",
    "report = Report([summary])\n",
    "report.make(f\"{obs.label}_report\")"
   ]
  },
  {
   "cell_type": "markdown",
   "id": "artistic-briefing",
   "metadata": {},
   "source": [
    "<div class=\"alert alert-info\">\n",
    "\n",
    "Note\n",
    "\n",
    "`obs.label` is just a conveniant attribute returning a string like `\"telescope_target_date_filter\"`\n",
    "\n",
    "</div>"
   ]
  },
  {
   "cell_type": "markdown",
   "id": "ordinary-israel",
   "metadata": {},
   "source": [
    "The last command generated a folder containing everything needed for the included `report.tex` to be compiled on your side. This is a $\\LaTeX$ file so feel free to add notes and extend it for your needs."
   ]
  },
  {
   "cell_type": "markdown",
   "id": "fiscal-cooling",
   "metadata": {},
   "source": [
    "## Compiling\n",
    "\n",
    "Alternatively, if you have `pdflatex` installed you can run `report.compile()`"
   ]
  },
  {
   "cell_type": "code",
   "execution_count": 3,
   "id": "db145f87-3edf-4d3d-bc9a-f25c61156487",
   "metadata": {
    "execution": {
     "iopub.execute_input": "2022-09-08T14:33:59.383922Z",
     "iopub.status.busy": "2022-09-08T14:33:59.383802Z",
     "iopub.status.idle": "2022-09-08T14:34:00.523845Z",
     "shell.execute_reply": "2022-09-08T14:34:00.523419Z"
    },
    "tags": []
   },
   "outputs": [],
   "source": [
    "# only prose>=2.2.1\n",
    "report.compile(destination=\"static/report.pdf\")"
   ]
  },
  {
   "cell_type": "code",
   "execution_count": 4,
   "id": "a554dfd7-feab-4105-88ca-0e2242638d29",
   "metadata": {
    "execution": {
     "iopub.execute_input": "2022-09-08T14:34:00.526132Z",
     "iopub.status.busy": "2022-09-08T14:34:00.526005Z",
     "iopub.status.idle": "2022-09-08T14:34:03.733966Z",
     "shell.execute_reply": "2022-09-08T14:34:03.733714Z"
    },
    "nbsphinx": "hidden",
    "tags": []
   },
   "outputs": [
    {
     "data": {
      "text/plain": [
       "0"
      ]
     },
     "execution_count": 4,
     "metadata": {},
     "output_type": "execute_result"
    }
   ],
   "source": [
    "import os\n",
    "\n",
    "os.system(\"pdf2svg static/report.pdf static/report.svg\")"
   ]
  },
  {
   "cell_type": "markdown",
   "id": "c946c6d6-a294-473d-9f3c-492f6d340808",
   "metadata": {},
   "source": [
    "Here is the final report"
   ]
  },
  {
   "cell_type": "markdown",
   "id": "1d8e7950-b684-4c50-abe1-78c901b2fdd0",
   "metadata": {
    "nbsphinx": "hidden",
    "tags": []
   },
   "source": [
    "![](static/report.svg)"
   ]
  }
 ],
 "metadata": {
  "kernelspec": {
   "display_name": "Python 3 (ipykernel)",
   "language": "python",
   "name": "python3"
  },
  "language_info": {
   "codemirror_mode": {
    "name": "ipython",
    "version": 3
   },
   "file_extension": ".py",
   "mimetype": "text/x-python",
   "name": "python",
   "nbconvert_exporter": "python",
   "pygments_lexer": "ipython3",
   "version": "3.9.10"
  }
 },
 "nbformat": 4,
 "nbformat_minor": 5
}
