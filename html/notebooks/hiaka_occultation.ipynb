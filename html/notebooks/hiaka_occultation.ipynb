{
 "cells": [
  {
   "cell_type": "markdown",
   "id": "776c5a66-e05f-4445-8674-9f87146138b7",
   "metadata": {
    "tags": []
   },
   "source": [
    "# Hi'iaka occultation\n",
    "\n",
    "[Hiʻiaka](https://en.wikipedia.org/wiki/Hi%CA%BBiaka_(moon)) is the largest, outer moon of the trans-Neptunian dwarf planet Haumea. We observed Hiʻiaka occulting a bright star, helping in the study of the moon's orbital and physical parameters. \n",
    "\n",
    "This observation was done with the 1-m telescope [Artemis](https://www.speculoos.uliege.be/cms/c_4549211/en/speculoos-north-sno) and consists of 1 s. short exposures, requiring images to be small in size (46x41 pixels to reduce the overhead time of the telescope). In this tutorial, we will extract the raw flux time-series of the star occulted by Hi'iaka."
   ]
  },
  {
   "cell_type": "markdown",
   "id": "7de642b2-85b9-4115-914b-8cd14fbb925d",
   "metadata": {},
   "source": [
    "## Images\n",
    "\n",
    "We start by scanning our dataset"
   ]
  },
  {
   "cell_type": "code",
   "execution_count": 1,
   "id": "9d855ccd-dc94-40e4-8755-0d9744e5464d",
   "metadata": {},
   "outputs": [
    {
     "name": "stderr",
     "output_type": "stream",
     "text": [
      "\u001b[38;5;12mRUN\u001b[0m Parsing FITS:  47%|\u001b[38;5;12m███████▉         \u001b[0m| 263/561 [00:00<00:00, 1317.24images/s]\u001b[0m"
     ]
    },
    {
     "name": "stdout",
     "output_type": "stream",
     "text": [
      "\u001b[38;5;12mINFO\u001b[0m telescope  not found - using default\n"
     ]
    },
    {
     "name": "stderr",
     "output_type": "stream",
     "text": [
      "\u001b[38;5;12mRUN\u001b[0m Parsing FITS: 100%|\u001b[38;5;12m█████████████████\u001b[0m| 561/561 [00:00<00:00, 1331.57images/s]\u001b[0m\n"
     ]
    },
    {
     "data": {
      "text/html": [
       "<div>\n",
       "<style scoped>\n",
       "    .dataframe tbody tr th:only-of-type {\n",
       "        vertical-align: middle;\n",
       "    }\n",
       "\n",
       "    .dataframe tbody tr th {\n",
       "        vertical-align: top;\n",
       "    }\n",
       "\n",
       "    .dataframe thead th {\n",
       "        text-align: right;\n",
       "    }\n",
       "</style>\n",
       "<table border=\"1\" class=\"dataframe\">\n",
       "  <thead>\n",
       "    <tr style=\"text-align: right;\">\n",
       "      <th></th>\n",
       "      <th>date</th>\n",
       "      <th>telescope</th>\n",
       "      <th>filter</th>\n",
       "      <th>type</th>\n",
       "      <th>target</th>\n",
       "      <th>width</th>\n",
       "      <th>height</th>\n",
       "      <th>exposure</th>\n",
       "      <th>files</th>\n",
       "    </tr>\n",
       "    <tr>\n",
       "      <th>id</th>\n",
       "      <th></th>\n",
       "      <th></th>\n",
       "      <th></th>\n",
       "      <th></th>\n",
       "      <th></th>\n",
       "      <th></th>\n",
       "      <th></th>\n",
       "      <th></th>\n",
       "      <th></th>\n",
       "    </tr>\n",
       "  </thead>\n",
       "  <tbody>\n",
       "    <tr>\n",
       "      <th>1</th>\n",
       "      <td>2022-06-09</td>\n",
       "      <td></td>\n",
       "      <td>Clear</td>\n",
       "      <td>light</td>\n",
       "      <td>2002MS4_Artemis_clear_2x2bin</td>\n",
       "      <td>46</td>\n",
       "      <td>41</td>\n",
       "      <td>1.0</td>\n",
       "      <td>556</td>\n",
       "    </tr>\n",
       "    <tr>\n",
       "      <th>2</th>\n",
       "      <td>2022-06-09</td>\n",
       "      <td></td>\n",
       "      <td></td>\n",
       "      <td>bias</td>\n",
       "      <td>2002MS4_Artemis_clear_2x2bin</td>\n",
       "      <td>46</td>\n",
       "      <td>41</td>\n",
       "      <td>0.0</td>\n",
       "      <td>5</td>\n",
       "    </tr>\n",
       "  </tbody>\n",
       "</table>\n",
       "</div>"
      ],
      "text/plain": [
       "          date telescope filter   type                        target  width  \\\n",
       "id                                                                            \n",
       "1   2022-06-09            Clear  light  2002MS4_Artemis_clear_2x2bin     46   \n",
       "2   2022-06-09                    bias  2002MS4_Artemis_clear_2x2bin     46   \n",
       "\n",
       "    height  exposure  files  \n",
       "id                           \n",
       "1       41       1.0    556  \n",
       "2       41       0.0      5  "
      ]
     },
     "execution_count": 1,
     "metadata": {},
     "output_type": "execute_result"
    }
   ],
   "source": [
    "from prose import FitsManager, utils\n",
    "\n",
    "fm = FitsManager(\"/Users/lgrcia/data/Hiaka_occultation_20220609_Artemis\", depth=1)\n",
    "fm.observations(hide_exposure=False)"
   ]
  },
  {
   "cell_type": "markdown",
   "id": "b97c5f91-3fdc-4f44-94e4-6ccaa0fc302c",
   "metadata": {},
   "source": [
    "For this observation we only have bias calibration images.  We see that some images could not be recognized. To solve this problem we can define an Image loader with the telescope pre-defined"
   ]
  },
  {
   "cell_type": "code",
   "execution_count": 2,
   "id": "eb3611ad-191b-48c2-91a7-acf921dcf175",
   "metadata": {},
   "outputs": [],
   "source": [
    "from prose import Image\n",
    "\n",
    "loader = Image.from_telescope(\"Artemis\")"
   ]
  },
  {
   "cell_type": "markdown",
   "id": "47529750-2898-44a8-9652-4d3d08acd702",
   "metadata": {
    "tags": []
   },
   "source": [
    "## Reference\n",
    "\n",
    "We then detect the stars for which the photomety will be extracted"
   ]
  },
  {
   "cell_type": "code",
   "execution_count": 3,
   "id": "018c2b03-2dd5-4e5f-ac36-a5fe158406c0",
   "metadata": {},
   "outputs": [
    {
     "name": "stdout",
     "output_type": "stream",
     "text": [
      "\u001b[38;5;12mINFO\u001b[0m Building master bias\n",
      "\u001b[38;5;12mINFO\u001b[0m No dark images set\n",
      "\u001b[38;5;12mINFO\u001b[0m No flat images set\n"
     ]
    },
    {
     "data": {
      "image/png": "[encoded data removed]",
      "text/plain": [
       "<Figure size 720x720 with 1 Axes>"
      ]
     },
     "metadata": {
      "needs_background": "light"
     },
     "output_type": "display_data"
    }
   ],
   "source": [
    "from prose import Sequence, blocks, Image\n",
    "\n",
    "images = fm.all_images\n",
    "ref = loader(images[0])\n",
    "\n",
    "calibration = Sequence([\n",
    "    blocks.Calibration(bias=fm.all_bias, loader=loader),\n",
    "    blocks.SegmentedPeaks(n_stars=1, auto=True)\n",
    "])\n",
    "\n",
    "calibration.run(ref, show_progress=False, loader=loader)\n",
    "_ = ref.show(ms=5, fs=20, zscale=False)"
   ]
  },
  {
   "cell_type": "markdown",
   "id": "35445027-7b8b-43d4-85b4-705e90ed321a",
   "metadata": {},
   "source": [
    "## The reduction sequence"
   ]
  },
  {
   "cell_type": "code",
   "execution_count": 4,
   "id": "1d1aaad8-b3c2-4792-bc98-e010ebb449e9",
   "metadata": {},
   "outputs": [
    {
     "name": "stderr",
     "output_type": "stream",
     "text": [
      "\u001b[38;5;12mRUN\u001b[0m 100%|\u001b[38;5;12m█████████████████████████████████\u001b[0m| 556/556 [00:11<00:00, 49.02images/s]\u001b[0m\n"
     ]
    }
   ],
   "source": [
    "# to retrieve time and flux from images\n",
    "data = blocks.Get(\"jd_utc\", \"fluxes\")\n",
    "\n",
    "reduction = Sequence([\n",
    "    *calibration,\n",
    "    blocks.Set(stars_coords=ref.stars_coords.copy()), # coordinates of the stars\n",
    "    blocks.centroids.Quadratic(limit=4),\n",
    "    blocks.PhotutilsAperturePhotometry(scale=False), # aperture photometry\n",
    "    data\n",
    "])\n",
    "\n",
    "reduction.run(images, loader=loader)"
   ]
  },
  {
   "cell_type": "markdown",
   "id": "9f6f5088-de7e-45f5-879d-236a4b5a2815",
   "metadata": {
    "tags": []
   },
   "source": [
    "we can now vizualise our light curve"
   ]
  },
  {
   "cell_type": "code",
   "execution_count": 5,
   "id": "2c010629-8788-4d3f-adcd-83748727bfc0",
   "metadata": {},
   "outputs": [
    {
     "data": {
      "image/png": "[encoded data removed]",
      "text/plain": [
       "<Figure size 432x288 with 1 Axes>"
      ]
     },
     "metadata": {
      "needs_background": "light"
     },
     "output_type": "display_data"
    }
   ],
   "source": [
    "import numpy as np\n",
    "import matplotlib.pyplot as plt\n",
    "\n",
    "time = np.array(data.jd_utc)\n",
    "fluxes = np.array(data.fluxes) # shape is (time, apertures, stars)\n",
    "\n",
    "# plotting aperture 10, star 0\n",
    "flux = fluxes[:, 10, 0]\n",
    "plt.plot(time - 2450000, flux, \".-\", c=\"0.3\")\n",
    "_ = plt.xlim(9740.728, 9740.731)"
   ]
  },
  {
   "cell_type": "markdown",
   "id": "ee14fed5-ec30-4dde-a5ec-699005701f99",
   "metadata": {},
   "source": [
    "This is a full occultation that we should be able to see on the images directly!"
   ]
  },
  {
   "cell_type": "markdown",
   "id": "3015f2d0-5cc1-480c-ad4e-d7d694934f33",
   "metadata": {},
   "source": [
    "## Seeing the star disapear"
   ]
  },
  {
   "cell_type": "markdown",
   "id": "32dba197-62e6-49e2-b093-e1782612b743",
   "metadata": {},
   "source": [
    "In order to see the images as they are processed, we will use the blocks from the `prose.blocks.vizualisation` module. The `PlotVideo` block takes a plotting function as argument, which takes as input an `Image` object. Let's implement it"
   ]
  },
  {
   "cell_type": "code",
   "execution_count": 6,
   "id": "abbb196e-e976-4bac-bc34-02d20d232445",
   "metadata": {},
   "outputs": [],
   "source": [
    "def plot(image):\n",
    "    plt.figure(None, (10,4))\n",
    "    ax = plt.subplot(121, xlabel=\"JD-utc - 2450000\", ylabel=\"diff. flux\")\n",
    "    time.append(image.jd_utc - 2450000)\n",
    "    flux.append(image.fluxes[10,0]/10000)\n",
    "    ax.plot(time, flux, \".-\", c=\"0.3\")\n",
    "    plt.xlim(9740.7285, 9740.7305)\n",
    "    ax.set_ylim(-0.2, 1.3)\n",
    "    ax.set_title(f\"Artemis 2002MS4 occultation ({ref.date.date()})\")\n",
    "    ax2 = plt.subplot(122)\n",
    "    image.show(zscale=False, ms=5, fs=20, ax=ax2)\n",
    "    plt.tight_layout()"
   ]
  },
  {
   "cell_type": "markdown",
   "id": "9adb452e-5de3-4364-b378-2150304c2aa0",
   "metadata": {},
   "source": [
    "and use it within a sequence that also contain the photometric extraction blocks"
   ]
  },
  {
   "cell_type": "code",
   "execution_count": 7,
   "id": "b9888fa8-b623-40d3-8b9e-291ca7fb3ba5",
   "metadata": {},
   "outputs": [
    {
     "name": "stderr",
     "output_type": "stream",
     "text": [
      "\u001b[38;5;12mRUN\u001b[0m 100%|\u001b[38;5;12m███████████████████████████████████\u001b[0m| 69/69 [00:06<00:00, 10.34images/s]\u001b[0m\n"
     ]
    }
   ],
   "source": [
    "# this is set in plot\n",
    "time = []; flux = []\n",
    "\n",
    "viz = Sequence([\n",
    "    *reduction,\n",
    "    blocks.vizualisation.PlotVideo(plot, \"static/hiaka.gif\", fps=17)\n",
    "])\n",
    "\n",
    "# Only the images close to the occultation\n",
    "viz.run(images[191:260], loader=loader)"
   ]
  },
  {
   "cell_type": "markdown",
   "id": "2101c320-0ddc-4a33-9577-9570b6b7618c",
   "metadata": {},
   "source": [
    "Here is the `movie.gif` where we indeed see the star being occulted"
   ]
  },
  {
   "cell_type": "markdown",
   "id": "3f148e39-414e-4989-b188-43a94fbe10a6",
   "metadata": {},
   "source": [
    "![](static/hiaka.gif)"
   ]
  },
  {
   "cell_type": "raw",
   "id": "c42a4523-17df-407a-a7b9-f356d50c5e27",
   "metadata": {
    "raw_mimetype": "text/restructuredtext",
    "tags": []
   },
   "source": [
    ".. note::\n",
    "\n",
    "    Setting ``limit=3`` in :class:`~prose.blocks.centroids.Quadratic` allows to keep the aperture fixed when the star's centroid is farther than ``limit`` pixel away from the initial position (we see that on the video when the star is occulted)"
   ]
  }
 ],
 "metadata": {
  "kernelspec": {
   "display_name": "Python 3 (ipykernel)",
   "language": "python",
   "name": "python3"
  },
  "language_info": {
   "codemirror_mode": {
    "name": "ipython",
    "version": 3
   },
   "file_extension": ".py",
   "mimetype": "text/x-python",
   "name": "python",
   "nbconvert_exporter": "python",
   "pygments_lexer": "ipython3",
   "version": "3.9.10"
  }
 },
 "nbformat": 4,
 "nbformat_minor": 5
}
