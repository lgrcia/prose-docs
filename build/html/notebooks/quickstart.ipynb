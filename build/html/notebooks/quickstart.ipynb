{
 "cells": [
  {
   "cell_type": "markdown",
   "id": "8e8baa78-0ceb-4eda-b0b0-d498631d1608",
   "metadata": {},
   "source": [
    "# Quickstart"
   ]
  },
  {
   "cell_type": "markdown",
   "id": "77e45f7f-0f0e-4f5c-b4a2-cabf44cd543f",
   "metadata": {},
   "source": [
    "*prose* contains the structure to build astronomical images pipelines. Here is a quick example pipeline to characterize the point-spread-function (PSF) of an example image"
   ]
  },
  {
   "cell_type": "code",
   "execution_count": 1,
   "id": "c2113be5-a6c9-4fc4-8cba-b4374b465e14",
   "metadata": {},
   "outputs": [
    {
     "name": "stderr",
     "output_type": "stream",
     "text": [
      "\u001b[38;5;12mRUN\u001b[0m 100%|\u001b[38;5;12m█████████████████████████████████████\u001b[0m| 1/1 [00:01<00:00,  1.41s/images]\u001b[0m\n"
     ]
    }
   ],
   "source": [
    "from prose import Sequence, blocks\n",
    "from prose.tutorials import example_image\n",
    "import matplotlib.pyplot as plt\n",
    "\n",
    "# getting the example image\n",
    "image = example_image()\n",
    "\n",
    "sequence = Sequence([\n",
    "    blocks.SegmentedPeaks(),  # stars detection\n",
    "    blocks.Cutouts(size=21),  # cutouts extraction\n",
    "    blocks.MedianPSF(),       # PSF building\n",
    "    blocks.psf.Moffat2D(),        # PSF modeling\n",
    "])\n",
    "\n",
    "sequence.run([image])"
   ]
  },
  {
   "cell_type": "markdown",
   "id": "07f5ecf5-abe6-4666-843f-f8c0e53c0121",
   "metadata": {},
   "source": [
    "We first assembled a series of `Blocks` in a `Sequence`, that we ran on a list containing our single `Image`. prose contains a wide variety of blocks implementing methods and algorithms commonly used in astronomical image processing."
   ]
  },
  {
   "cell_type": "markdown",
   "id": "ccbd231b-f291-4c45-aa8d-774227fed874",
   "metadata": {},
   "source": [
    "Let's plot the results from the `Image` attributes"
   ]
  },
  {
   "cell_type": "code",
   "execution_count": 2,
   "id": "dcd53380-7862-45db-95ee-1a617e03ee2c",
   "metadata": {},
   "outputs": [
    {
     "data": {
      "image/png": "[encoded data removed]",
      "text/plain": [
       "<Figure size 720x288 with 2 Axes>"
      ]
     },
     "metadata": {
      "needs_background": "light"
     },
     "output_type": "display_data"
    }
   ],
   "source": [
    "# plotting\n",
    "# --------\n",
    "plt.figure(None, (10, 4))\n",
    "\n",
    "plt.subplot(1, 2, 1, title=\"Median PSF\")\n",
    "plt.imshow(image.psf, origin=\"lower\")\n",
    "\n",
    "plt.subplot(1, 2, 2, title=f\"PSF model ({image.psf_model_block})\")\n",
    "plt.imshow(image.psf_model, origin=\"lower\")\n",
    "_ = plt.text(1, 1, f\"FWHM x: {image.fwhmx:.2f} pix\\nFWHM y: {image.fwhmy:.2f} pix\", c=\"w\")"
   ]
  }
 ],
 "metadata": {
  "kernelspec": {
   "display_name": "Python 3 (ipykernel)",
   "language": "python",
   "name": "python3"
  },
  "language_info": {
   "codemirror_mode": {
    "name": "ipython",
    "version": 3
   },
   "file_extension": ".py",
   "mimetype": "text/x-python",
   "name": "python",
   "nbconvert_exporter": "python",
   "pygments_lexer": "ipython3",
   "version": "3.9.10"
  }
 },
 "nbformat": 4,
 "nbformat_minor": 5
}
