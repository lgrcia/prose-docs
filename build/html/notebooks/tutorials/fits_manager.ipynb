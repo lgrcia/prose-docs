{
 "cells": [
  {
   "cell_type": "markdown",
   "id": "united-copper",
   "metadata": {
    "tags": []
   },
   "source": [
    "# Fits manager"
   ]
  },
  {
   "cell_type": "code",
   "execution_count": 1,
   "id": "forward-manchester",
   "metadata": {},
   "outputs": [],
   "source": [
    "from prose import FitsManager, Telescope\n",
    "from prose import tutorials"
   ]
  },
  {
   "cell_type": "markdown",
   "id": "native-banks",
   "metadata": {},
   "source": [
    "Astronomical observations often generate highly disorganised fits images folders. To know the content of these files, file names can be used but have their limitations. At the end it is not rare to start opening these files to acces the information in their headers.\n",
    "\n",
    "To solve this organisation problem, prose features the `FitsManager` object, a conveniant tool to ease the sorting process."
   ]
  },
  {
   "cell_type": "markdown",
   "id": "wanted-forestry",
   "metadata": {},
   "source": [
    "## Generating fake fits\n",
    "\n",
    "Lets' generate a set of fake images all stored in the same folder but with different attributes and no way to distinguish them from their file names. These data will be taken from telescope `A` and `B` , let's define them:"
   ]
  },
  {
   "cell_type": "code",
   "execution_count": 2,
   "id": "grateful-arrangement",
   "metadata": {},
   "outputs": [
    {
     "name": "stdout",
     "output_type": "stream",
     "text": [
      "Telescope 'a' saved\n",
      "Telescope 'b' saved\n"
     ]
    }
   ],
   "source": [
    "_ = Telescope(dict(name=\"A\"))\n",
    "_ = Telescope(dict(name=\"B\"))"
   ]
  },
  {
   "cell_type": "markdown",
   "id": "turkish-franchise",
   "metadata": {},
   "source": [
    "We will now simulate some images from `A` and `B` all located in a single folder, featuring different sizes, filters and associated calibration:"
   ]
  },
  {
   "cell_type": "code",
   "execution_count": 3,
   "id": "liquid-richards",
   "metadata": {},
   "outputs": [],
   "source": [
    "destination = \"./fake_observations\"\n",
    "tutorials.disorganised_folder(destination)"
   ]
  },
  {
   "cell_type": "markdown",
   "id": "traditional-defendant",
   "metadata": {},
   "source": [
    "## The Fits Manager object"
   ]
  },
  {
   "cell_type": "markdown",
   "id": "guided-bride",
   "metadata": {},
   "source": [
    "To dig into these disorganised data, we instantiate a `FitsManager` on the folder and see its content"
   ]
  },
  {
   "cell_type": "code",
   "execution_count": 4,
   "id": "distinguished-trader",
   "metadata": {},
   "outputs": [
    {
     "name": "stderr",
     "output_type": "stream",
     "text": [
      "\u001b[94mRUN\u001b[39m Parsing FITS: 100%|\u001b[94m███████████████████\u001b[39m| 28/28 [00:00<00:00, 1533.85images/s]\u001b[0m"
     ]
    },
    {
     "name": "stdout",
     "output_type": "stream",
     "text": [
      "╒═════════╤════════════╤═════════════╤══════════╤══════════╤════════╤════════════╕\n",
      "│   index │ date       │ telescope   │ target   │ filter   │ type   │   quantity │\n",
      "╞═════════╪════════════╪═════════════╪══════════╪══════════╪════════╪════════════╡\n",
      "│       0 │ 2022-06-13 │ A           │ prose    │ a        │ light  │          5 │\n",
      "├─────────┼────────────┼─────────────┼──────────┼──────────┼────────┼────────────┤\n",
      "│       1 │ 2022-06-13 │ A           │ prose    │ ab       │ light  │          5 │\n",
      "├─────────┼────────────┼─────────────┼──────────┼──────────┼────────┼────────────┤\n",
      "│       2 │ 2022-06-13 │ A           │ prose    │ b        │ light  │          5 │\n",
      "├─────────┼────────────┼─────────────┼──────────┼──────────┼────────┼────────────┤\n",
      "│       3 │ 2022-06-13 │ B           │ prose    │ b        │ light  │          5 │\n",
      "╘═════════╧════════════╧═════════════╧══════════╧══════════╧════════╧════════════╛\n",
      "Calibrations:\n",
      "╒════════════╤═════════════╤══════════╤══════════╤════════╤════════════╕\n",
      "│ date       │ telescope   │ target   │ filter   │ type   │   quantity │\n",
      "╞════════════╪═════════════╪══════════╪══════════╪════════╪════════════╡\n",
      "│ 2022-06-13 │ A           │ prose    │          │ dark   │          2 │\n",
      "├────────────┼─────────────┼──────────┼──────────┼────────┼────────────┤\n",
      "│ 2022-06-13 │ A           │ prose    │ c        │ dark   │          2 │\n",
      "├────────────┼─────────────┼──────────┼──────────┼────────┼────────────┤\n",
      "│ 2022-06-13 │ A           │ prose    │ b        │ flat   │          2 │\n",
      "├────────────┼─────────────┼──────────┼──────────┼────────┼────────────┤\n",
      "│ 2022-06-13 │ A           │ prose    │ c        │ flat   │          2 │\n",
      "╘════════════╧═════════════╧══════════╧══════════╧════════╧════════════╛\n",
      "Others:\n",
      "╒════════════╤═════════════╤══════════╤══════════╤════════╤════════════╕\n",
      "│ date       │ telescope   │ target   │ filter   │ type   │   quantity │\n",
      "╞════════════╪═════════════╪══════════╪══════════╪════════╪════════════╡\n",
      "│ 2022-06-13 │ B           │ prose    │ b        │ light  │          5 │\n",
      "├────────────┼─────────────┼──────────┼──────────┼────────┼────────────┤\n",
      "│ 2022-06-13 │ A           │ prose    │ ab       │ light  │          5 │\n",
      "├────────────┼─────────────┼──────────┼──────────┼────────┼────────────┤\n",
      "│ 2022-06-13 │ A           │ prose    │ a        │ light  │          5 │\n",
      "├────────────┼─────────────┼──────────┼──────────┼────────┼────────────┤\n",
      "│ 2022-06-13 │ A           │ prose    │ b        │ light  │          5 │\n",
      "╘════════════╧═════════════╧══════════╧══════════╧════════╧════════════╛\n"
     ]
    },
    {
     "name": "stderr",
     "output_type": "stream",
     "text": [
      "\n"
     ]
    }
   ],
   "source": [
    "fm = FitsManager(destination)\n",
    "fm.print()"
   ]
  },
  {
   "cell_type": "markdown",
   "id": "exempt-spine",
   "metadata": {},
   "source": [
    "## Picking an observation\n",
    "\n",
    "From there let say we want to keep the files from observation indexed `2` in the previous table:"
   ]
  },
  {
   "cell_type": "code",
   "execution_count": 5,
   "id": "falling-language",
   "metadata": {},
   "outputs": [
    {
     "data": {
      "text/plain": [
       "{'images': array(['/Users/lgrcia/code/prose-docs/source/notebooks/tutorials/fake_observations/A-bis-test0.fits',\n",
       "        '/Users/lgrcia/code/prose-docs/source/notebooks/tutorials/fake_observations/A-bis-test1.fits',\n",
       "        '/Users/lgrcia/code/prose-docs/source/notebooks/tutorials/fake_observations/A-bis-test2.fits',\n",
       "        '/Users/lgrcia/code/prose-docs/source/notebooks/tutorials/fake_observations/A-bis-test3.fits',\n",
       "        '/Users/lgrcia/code/prose-docs/source/notebooks/tutorials/fake_observations/A-bis-test4.fits'],\n",
       "       dtype='<U91'),\n",
       " 'bias': array([], dtype=float64),\n",
       " 'darks': ['/Users/lgrcia/code/prose-docs/source/notebooks/tutorials/fake_observations/A-bis-test_d0.fits',\n",
       "  '/Users/lgrcia/code/prose-docs/source/notebooks/tutorials/fake_observations/A-bis-test_d1.fits',\n",
       "  '/Users/lgrcia/code/prose-docs/source/notebooks/tutorials/fake_observations/A-bis-testf2_0_8s_dark.fits',\n",
       "  '/Users/lgrcia/code/prose-docs/source/notebooks/tutorials/fake_observations/A-bis-testf2_1_8s_dark.fits'],\n",
       " 'flats': ['/Users/lgrcia/code/prose-docs/source/notebooks/tutorials/fake_observations/A-bis-testf1_0.fits',\n",
       "  '/Users/lgrcia/code/prose-docs/source/notebooks/tutorials/fake_observations/A-bis-testf1_1.fits']}"
      ]
     },
     "execution_count": 5,
     "metadata": {},
     "output_type": "execute_result"
    }
   ],
   "source": [
    "fm.observation_files(2)"
   ]
  },
  {
   "cell_type": "markdown",
   "id": "driving-romantic",
   "metadata": {},
   "source": [
    "flats with the right filter have been kept, as well as darks"
   ]
  },
  {
   "cell_type": "markdown",
   "id": "completed-beaver",
   "metadata": {},
   "source": [
    "### Telescope specific keywords"
   ]
  },
  {
   "cell_type": "markdown",
   "id": "precise-scheduling",
   "metadata": {},
   "source": [
    "The information retained by `FitsManager` was taken from images headers. To know which keywords to use, we had to register telescopes `A` and `B` with a dictionary. Whenever their names appear in a fits header, their dictionary is loaded to read their header keywords.\n",
    "\n",
    "Since we just specified the telescope names all the rest is default. For example the filter is taken from the keyword `FILTER` and the image type from `IMAGETYP`, knowing that `IMAGETYP=light` is a light (a.k.a science) frame. These keywords can be set in more details when registering the telescope.\n",
    "\n",
    "For more details, chcek the `Telescope` object"
   ]
  },
  {
   "cell_type": "code",
   "execution_count": 6,
   "id": "useful-steps",
   "metadata": {},
   "outputs": [],
   "source": [
    "# hidden\n",
    "from shutil import rmtree\n",
    "\n",
    "rmtree(destination)"
   ]
  }
 ],
 "metadata": {
  "jupytext": {
   "formats": "ipynb,py:percent"
  },
  "kernelspec": {
   "display_name": "Python 3 (ipykernel)",
   "language": "python",
   "name": "python3"
  },
  "language_info": {
   "codemirror_mode": {
    "name": "ipython",
    "version": 3
   },
   "file_extension": ".py",
   "mimetype": "text/x-python",
   "name": "python",
   "nbconvert_exporter": "python",
   "pygments_lexer": "ipython3",
   "version": "3.9.10"
  }
 },
 "nbformat": 4,
 "nbformat_minor": 5
}
