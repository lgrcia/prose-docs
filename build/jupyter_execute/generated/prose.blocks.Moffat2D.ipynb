{
 "cells": [
  {
   "cell_type": "code",
   "execution_count": 1,
   "id": "68054366",
   "metadata": {
    "execution": {
     "iopub.execute_input": "2022-03-14T21:48:45.080331Z",
     "iopub.status.busy": "2022-03-14T21:48:45.079385Z",
     "iopub.status.idle": "2022-03-14T21:48:46.692812Z",
     "shell.execute_reply": "2022-03-14T21:48:46.693177Z"
    }
   },
   "outputs": [
    {
     "name": "stderr",
     "output_type": "stream",
     "text": [
      "\r",
      "\u001b[94mRUN\u001b[39m   0%|\u001b[94m                                             \u001b[39m| 0/1 [00:00<?, ?images/s]\u001b[0m"
     ]
    },
    {
     "name": "stderr",
     "output_type": "stream",
     "text": [
      "\r",
      "\u001b[94mRUN\u001b[39m 100%|\u001b[94m█████████████████████████████████████\u001b[39m| 1/1 [00:00<00:00, 43.55images/s]\u001b[0m"
     ]
    },
    {
     "name": "stderr",
     "output_type": "stream",
     "text": [
      "\n"
     ]
    }
   ],
   "source": [
    "from prose import blocks, Sequence\n",
    "from prose.tutorials import example_image\n",
    "\n",
    "# our example image\n",
    "image = example_image()\n",
    "\n",
    "# Sequence to build image PSF\n",
    "sequence = Sequence([\n",
    "    blocks.SegmentedPeaks(),  # stars detection\n",
    "    blocks.Cutouts(),\n",
    "    blocks.MedianPSF(),       # building PSF\n",
    "])\n",
    "\n",
    "sequence.run([image])"
   ]
  },
  {
   "cell_type": "code",
   "execution_count": 2,
   "id": "68adbb6c",
   "metadata": {
    "execution": {
     "iopub.execute_input": "2022-03-14T21:48:46.703771Z",
     "iopub.status.busy": "2022-03-14T21:48:46.703427Z",
     "iopub.status.idle": "2022-03-14T21:48:46.704659Z",
     "shell.execute_reply": "2022-03-14T21:48:46.704922Z"
    }
   },
   "outputs": [],
   "source": [
    "import matplotlib.pyplot as plt\n",
    "\n",
    "block = blocks.Moffat2D()\n",
    "image = block(image)"
   ]
  },
  {
   "cell_type": "code",
   "execution_count": 3,
   "id": "1b54eee6",
   "metadata": {
    "execution": {
     "iopub.execute_input": "2022-03-14T21:48:46.712623Z",
     "iopub.status.busy": "2022-03-14T21:48:46.712246Z",
     "iopub.status.idle": "2022-03-14T21:48:46.893095Z",
     "shell.execute_reply": "2022-03-14T21:48:46.893438Z"
    }
   },
   "outputs": [
    {
     "name": "stdout",
     "output_type": "stream",
     "text": [
      "model: Moffat2D\n",
      "fwhmx, fwhmy, theta: 2.79, 2.70, 0.00\n"
     ]
    },
    {
     "data": {
      "image/png": "[encoded data removed]",
      "text/plain": [
       "<Figure size 864x360 with 4 Axes>"
      ]
     },
     "metadata": {
      "filenames": {
       "image/png": "/Users/lgrcia/code/prose-docs/build/jupyter_execute/generated/prose.blocks.Moffat2D_2_1.png"
      },
      "needs_background": "light"
     },
     "output_type": "display_data"
    }
   ],
   "source": [
    "from prose import viz\n",
    "\n",
    "print(f\"model: {image.psf_model_block}\")\n",
    "print(\"fwhmx, fwhmy, theta: \" + \", \".join([f\"{p:.2f}\" for p in block.fwhm(image.psf_models_params)]))\n",
    "\n",
    "plt.figure(figsize=(12, 5))\n",
    "\n",
    "plt.subplot(131)\n",
    "plt.imshow(image.psf)\n",
    "plt.title(\"PSF\")\n",
    "\n",
    "plt.subplot(132)\n",
    "plt.imshow(image.psf_model)\n",
    "plt.title(f\"PSF model ({image.psf_model_block})\")\n",
    "\n",
    "plt.subplot(133)\n",
    "residuals = image.psf - image.psf_model\n",
    "ax = plt.imshow(residuals)\n",
    "plt.title(\"residuals\")\n",
    "viz.add_colorbar(ax)\n",
    "\n",
    "plt.tight_layout()"
   ]
  }
 ],
 "metadata": {
  "kernelspec": {
   "display_name": "Python 3 (ipykernel)",
   "language": "python",
   "name": "python3"
  },
  "language_info": {
   "codemirror_mode": {
    "name": "ipython",
    "version": 3
   },
   "file_extension": ".py",
   "mimetype": "text/x-python",
   "name": "python",
   "nbconvert_exporter": "python",
   "pygments_lexer": "ipython3",
   "version": "3.9.9"
  }
 },
 "nbformat": 4,
 "nbformat_minor": 5
}