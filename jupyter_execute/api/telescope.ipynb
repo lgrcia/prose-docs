{
 "cells": [
  {
   "cell_type": "code",
   "execution_count": 1,
   "id": "474d9b46",
   "metadata": {
    "execution": {
     "iopub.execute_input": "2022-03-07T00:47:33.468356Z",
     "iopub.status.busy": "2022-03-07T00:47:33.465775Z",
     "iopub.status.idle": "2022-03-07T00:47:35.936773Z",
     "shell.execute_reply": "2022-03-07T00:47:35.937015Z"
    }
   },
   "outputs": [
    {
     "name": "stderr",
     "output_type": "stream",
     "text": [
      "WARNING (theano.link.c.cmodule): install mkl with `conda install mkl-service`: No module named 'mkl'\n"
     ]
    },
    {
     "name": "stdout",
     "output_type": "stream",
     "text": [
      "Telescope 'unknown' saved\n"
     ]
    }
   ],
   "source": [
    "from prose import Telescope\n",
    "\n",
    "telescope_dict = dict(\n",
    "    # Name(s)\n",
    "    # -------\n",
    "    name = \"Unknown\",\n",
    "    names = [],\n",
    "\n",
    "    # Keywords\n",
    "    # --------\n",
    "    keyword_telescope = \"TELESCOP\",\n",
    "    keyword_object = \"OBJECT\",\n",
    "    keyword_image_type = \"IMAGETYP\",\n",
    "    keyword_light_images = \"light\",\n",
    "    keyword_dark_images = \"dark\",\n",
    "    keyword_flat_images = \"flat\",\n",
    "    keyword_bias_images = \"bias\",\n",
    "    keyword_observation_date = \"DATE-OBS\",\n",
    "    keyword_exposure_time = \"EXPTIME\",\n",
    "    keyword_filter = \"FILTER\",\n",
    "    keyword_airmass = \"AIRMASS\",\n",
    "    keyword_fwhm = \"FWHM\",\n",
    "    keyword_seeing = \"SEEING\",\n",
    "    keyword_ra = \"RA\",\n",
    "    keyword_dec = \"DEC\",\n",
    "    keyword_jd = \"JD\",\n",
    "    keyword_bjd = \"BJD\",\n",
    "    keyword_flip = \"PIERSIDE\",\n",
    "    keyword_observation_time = None,\n",
    "\n",
    "    # Units, formats and scales\n",
    "    # -------------------------\n",
    "    ra_unit = \"deg\",\n",
    "    dec_unit = \"deg\",\n",
    "    jd_scale = \"utc\",\n",
    "    bjd_scale = \"utc\",\n",
    "    mjd = 0,\n",
    "\n",
    "    # Specs\n",
    "    # -----\n",
    "    trimming = (0, 0), # in piwel along y/x\n",
    "    read_noise = 9, # in A\n",
    "    gain = 1, # in e-/ADU\n",
    "    altitude = 2000, # in meters\n",
    "    diameter = 100, # in meters\n",
    "    pixel_scale = None, # in arcseconds\n",
    "    latlong = [None, None],\n",
    "    saturation = 55000,\n",
    "    hdu = 0\n",
    ")\n",
    "\n",
    "telescope = Telescope(telescope_dict)"
   ]
  }
 ],
 "metadata": {
  "kernelspec": {
   "display_name": "Python 3 (ipykernel)",
   "language": "python",
   "name": "python3"
  },
  "language_info": {
   "codemirror_mode": {
    "name": "ipython",
    "version": 3
   },
   "file_extension": ".py",
   "mimetype": "text/x-python",
   "name": "python",
   "nbconvert_exporter": "python",
   "pygments_lexer": "ipython3",
   "version": "3.9.9"
  }
 },
 "nbformat": 4,
 "nbformat_minor": 5
}