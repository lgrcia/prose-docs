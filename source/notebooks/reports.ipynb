{
 "cells": [
  {
   "cell_type": "markdown",
   "id": "assured-marina",
   "metadata": {},
   "source": [
    "# Reports"
   ]
  },
  {
   "cell_type": "markdown",
   "id": "rising-honolulu",
   "metadata": {},
   "source": [
    "To communicate results, one might need to produce pdf reports out of observations. *prose* features auto-generated  $\\LaTeX$ reports from `Observation` objects."
   ]
  },
  {
   "cell_type": "markdown",
   "id": "global-explosion",
   "metadata": {},
   "source": [
    "## Loading the phot"
   ]
  },
  {
   "cell_type": "markdown",
   "id": "owned-notebook",
   "metadata": {},
   "source": [
    "Let's firts load some data you might have used or generated in previous tutorials (in my case I take the `.phot` we produced [here](./reduction.ipynb))"
   ]
  },
  {
   "cell_type": "code",
   "execution_count": 4,
   "id": "absent-transcription",
   "metadata": {},
   "outputs": [
    {
     "name": "stdout",
     "output_type": "stream",
     "text": [
      "\u001b[94mINFO\u001b[39m Could not convert time to BJD TDB\n"
     ]
    },
    {
     "data": {
      "image/png": "[encoded data removed]",
      "text/plain": [
       "<Figure size 432x288 with 1 Axes>"
      ]
     },
     "metadata": {
      "needs_background": "light"
     },
     "output_type": "display_data"
    }
   ],
   "source": [
    "from prose import load\n",
    "import matplotlib.pyplot as plt\n",
    "\n",
    "obs = load(\"A_20220314_prose_a/A_20220314_prose_a.phot\")\n",
    "obs.plot()\n",
    "_ = plt.ylim(0.98, 1.02)"
   ]
  },
  {
   "cell_type": "markdown",
   "id": "classified-speaker",
   "metadata": {},
   "source": [
    "## Basic Summary report"
   ]
  },
  {
   "cell_type": "markdown",
   "id": "meaning-winner",
   "metadata": {},
   "source": [
    "You can produce many reports in prose and arange them into the `Report` object so that they are all contained in a single  $\\LaTeX$/PDF. We will make a report out of the very basic `Summary` template, which namely shows a summary of the observation:"
   ]
  },
  {
   "cell_type": "code",
   "execution_count": 6,
   "id": "fancy-obligation",
   "metadata": {},
   "outputs": [
    {
     "name": "stdout",
     "output_type": "stream",
     "text": [
      "\u001b[94mINFO\u001b[39m Could not convert time to BJD TDB\n",
      "making summary ...\n"
     ]
    },
    {
     "name": "stderr",
     "output_type": "stream",
     "text": [
      "/Users/lgrcia/code/prose/prose/observation.py:516: RuntimeWarning: invalid value encountered in true_divide\n",
      "  scaled_data /= np.max([10*np.mean(be), (np.percentile(by, 95) - np.percentile(by, 5))])\n",
      "/opt/homebrew/Caskroom/miniforge/base/envs/modelling-2/lib/python3.9/site-packages/matplotlib/axes/_base.py:2475: UserWarning: Warning: converting a masked element to nan.\n",
      "  xys = np.asarray(xys)\n"
     ]
    }
   ],
   "source": [
    "from prose.reports import Report, Summary\n",
    "\n",
    "# The summary template\n",
    "summary = Summary(obs)\n",
    "\n",
    "# The report\n",
    "report = Report([summary])\n",
    "report.make(f\"{obs.label}_report\")"
   ]
  },
  {
   "cell_type": "markdown",
   "id": "artistic-briefing",
   "metadata": {},
   "source": [
    "<div class=\"alert alert-info\">\n",
    "\n",
    "Note\n",
    "\n",
    "`obs.denominator` is just a conveniant attribute returning a string like `\"telescope_target_date_filter\"`\n",
    "\n",
    "</div>"
   ]
  },
  {
   "cell_type": "markdown",
   "id": "ordinary-israel",
   "metadata": {},
   "source": [
    "The last command generated a folder containing everything needed for the included `report.tex` to be compiled on your side. This is a $\\LaTeX$ file so feel free to add notes and extend it for your needs."
   ]
  },
  {
   "cell_type": "markdown",
   "id": "fiscal-cooling",
   "metadata": {},
   "source": [
    "<div class=\"alert alert-info\">\n",
    "\n",
    "Note\n",
    "\n",
    "Alternatively, if you have `pdflatex` isntalled you can run `report.compile()`\n",
    "\n",
    "</div>"
   ]
  },
  {
   "cell_type": "markdown",
   "id": "recorded-destination",
   "metadata": {},
   "source": [
    "![](A_20210318_prose_a_report.png)"
   ]
  }
 ],
 "metadata": {
  "kernelspec": {
   "display_name": "Python 3 (ipykernel)",
   "language": "python",
   "name": "python3"
  },
  "language_info": {
   "codemirror_mode": {
    "name": "ipython",
    "version": 3
   },
   "file_extension": ".py",
   "mimetype": "text/x-python",
   "name": "python",
   "nbconvert_exporter": "python",
   "pygments_lexer": "ipython3",
   "version": "3.9.9"
  }
 },
 "nbformat": 4,
 "nbformat_minor": 5
}
