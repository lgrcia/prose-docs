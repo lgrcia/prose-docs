{
 "cells": [
  {
   "cell_type": "markdown",
   "metadata": {},
   "source": [
    "# Photometry ✨\n",
    "\n",
    "After an observation is done, a common need is to reduce and extract fluxes from raw FITS images. \n",
    "\n",
    "In this tutorial you will learn how to process a complete night of raw data from any telescope with some basic reduction tools provided by *prose*.\n",
    "\n",
    "## Example data\n",
    "\n",
    "You can follow this tutorial on your own data or generate a synthetic dataset. As an example, let's generate a light curve"
   ]
  },
  {
   "cell_type": "code",
   "execution_count": null,
   "metadata": {},
   "outputs": [],
   "source": [
    "import numpy as np\n",
    "import matplotlib.pyplot as plt\n",
    "\n",
    "time = np.linspace(0, 0.15, 100) + 2450000\n",
    "target_dflux = 1 + np.sin(time*100)*1e-2\n",
    "\n",
    "plt.plot(time, target_dflux)\n",
    "plt.ylim(0.98, 1.02)"
   ]
  },
  {
   "cell_type": "markdown",
   "metadata": {},
   "source": [
    "This might be the differential flux of a variable star. Let's now simulate the fits images associated with the observation of this target:"
   ]
  },
  {
   "cell_type": "code",
   "execution_count": null,
   "metadata": {},
   "outputs": [],
   "source": [
    "from prose.tutorials import simulate_observation\n",
    "\n",
    "# so we have the same data\n",
    "np.random.seed(40)\n",
    "\n",
    "fits_folder = \"./tutorial_dataset\"\n",
    "simulate_observation(time, target_dflux, fits_folder)"
   ]
  },
  {
   "cell_type": "markdown",
   "metadata": {},
   "source": [
    "here prose simulated comparison stars, there fluxes over time and some systematics noises."
   ]
  },
  {
   "cell_type": "markdown",
   "metadata": {},
   "source": [
    "## Telescope setting\n",
    "\n",
    "We start by setting up the `Telescope` information we need for the reduction, for example some fits keywords that are specific to this observatory plus few specs:"
   ]
  },
  {
   "cell_type": "code",
   "execution_count": null,
   "metadata": {},
   "outputs": [],
   "source": [
    "from prose import Telescope\n",
    "\n",
    "_ = Telescope({\n",
    "    \"name\": \"A\",\n",
    "    \"trimming\": [40, 40],\n",
    "    \"pixel_scale\": 0.66,\n",
    "    \"latlong\": [31.2027, 7.8586],\n",
    "    \"keyword_light_images\": \"light\"\n",
    "})"
   ]
  },
  {
   "cell_type": "markdown",
   "metadata": {},
   "source": [
    "This has to be done **only once** and saves this telescope settings for any future use (whenever its name appears in fits headers). More details are given in the [telescope settings](../api/telescope.rst) note.\n",
    "\n",
    "## Folder exploration\n",
    "\n",
    "The first thing we want to do is to see what is contained within our folder. For that we instantiate a `FitsManager` object on our folder to describe its content"
   ]
  },
  {
   "cell_type": "code",
   "execution_count": null,
   "metadata": {},
   "outputs": [],
   "source": [
    "from prose import FitsManager\n",
    "\n",
    "fm = FitsManager(fits_folder, depth=2)\n",
    "fm"
   ]
  },
  {
   "cell_type": "markdown",
   "metadata": {},
   "source": [
    "We have 100 images of the *prose* target together with some calibration files. More info about the `FitsManager` object [here](./fits_manager.ipynb).\n",
    "\n",
    "## Choosing a reference image\n",
    "\n",
    "In order to perform the photometric extraction on all images, we will select a reference image"
   ]
  },
  {
   "cell_type": "code",
   "execution_count": null,
   "metadata": {},
   "outputs": [],
   "source": [
    "from prose import Image\n",
    "\n",
    "# image 0 will be our reference\n",
    "ref = Image(fm.images[0])"
   ]
  },
  {
   "cell_type": "markdown",
   "metadata": {},
   "source": [
    "and apply the following sequence to get the stars we want to perform photometry on"
   ]
  },
  {
   "cell_type": "code",
   "execution_count": null,
   "metadata": {},
   "outputs": [],
   "source": [
    "from prose import Sequence, blocks\n",
    "\n",
    "calibration = Sequence([\n",
    "    blocks.Calibration(darks=fm.darks, bias=fm.bias, flats=fm.flats),\n",
    "    blocks.Trim(),\n",
    "    blocks.SegmentedPeaks(), # stars detection\n",
    "    blocks.Cutouts(),                   # making stars cutouts\n",
    "    blocks.MedianPSF(),                 # building PSF\n",
    "    blocks.Moffat2D(),                  # modeling PSF\n",
    "])\n",
    "\n",
    "calibration.run(ref, show_progress=False)\n",
    "ref.show()"
   ]
  },
  {
   "cell_type": "markdown",
   "metadata": {},
   "source": [
    ".. note:\n",
    "    \n",
    "    You can use a Gaia query to define which stars you want the photometry from (e.g. if too faint to be detected here)"
   ]
  },
  {
   "cell_type": "markdown",
   "metadata": {},
   "source": [
    "## Photometry\n",
    "\n",
    "We can now extract the photometry of these stars"
   ]
  },
  {
   "cell_type": "code",
   "execution_count": null,
   "metadata": {},
   "outputs": [],
   "source": [
    "photometry = Sequence([\n",
    "    *calibration,                         # apply the same calibration to all images\n",
    "    blocks.detection.LimitStars(min=3),   # discard images not featuring enough stars\n",
    "    blocks.Twirl(ref.stars_coords),       # compute image transformation\n",
    "    \n",
    "    # set stars to the reference ones and apply the inverse \n",
    "    # transformation previously found to match the ones in the image\n",
    "    blocks.Set(stars_coords=ref.stars_coords),\n",
    "    blocks.AffineTransform(data=False, inverse=True),\n",
    "    \n",
    "    blocks.BalletCentroid(),                            # stars centroiding\n",
    "    blocks.PhotutilsAperturePhotometry(scale=ref.fwhm), # aperture photometry\n",
    "    blocks.Peaks(),\n",
    "    \n",
    "    # Retrieving data from images in a conveniant way (see later)\n",
    "    blocks.XArray(\n",
    "        (\"time\", \"jd_utc\"),\n",
    "        (\"time\", \"bjd_tdb\"),\n",
    "        (\"time\", \"flip\"),\n",
    "        (\"time\", \"fwhm\"),\n",
    "        (\"time\", \"fwhmx\"),\n",
    "        (\"time\", \"fwhmy\"),\n",
    "        (\"time\", \"dx\"),\n",
    "        (\"time\", \"dy\"),\n",
    "        (\"time\", \"airmass\"),\n",
    "        (\"time\", \"exposure\"),\n",
    "        (\"time\", \"path\"),\n",
    "        (\"time\", \"sky\"),\n",
    "        ((\"time\", \"apertures\", \"star\"), \"fluxes\"),\n",
    "        ((\"time\", \"apertures\", \"star\"), \"errors\"),\n",
    "        ((\"time\", \"apertures\", \"star\"), \"apertures_area\"),\n",
    "        ((\"time\", \"apertures\", \"star\"), \"apertures_radii\"),\n",
    "        ((\"time\", \"apertures\"), \"apertures_area\"),\n",
    "        ((\"time\", \"apertures\"), \"apertures_radii\"),\n",
    "        (\"time\", \"annulus_rin\"),\n",
    "        (\"time\", \"annulus_rout\"),\n",
    "        (\"time\", \"annulus_area\"),\n",
    "        ((\"time\", \"star\"), \"peaks\"),\n",
    "        name=\"xarray\"\n",
    "    ),\n",
    "    \n",
    "    # Stack image\n",
    "    blocks.AffineTransform(stars=False, data=True),\n",
    "    blocks.Stack(ref, name=\"stack\"),\n",
    "])\n",
    "\n",
    "photometry.run(fm.images)"
   ]
  },
  {
   "cell_type": "markdown",
   "metadata": {},
   "source": [
    "All our data lie in the `blocks.Xarray` block, that we will transform into a convenient `Observation` object"
   ]
  },
  {
   "cell_type": "code",
   "execution_count": null,
   "metadata": {},
   "outputs": [],
   "source": [
    "from prose import Observation\n",
    "\n",
    "obs = Observation(photometry.xarray.to_observation(photometry.stack.stack, sequence=photometry))"
   ]
  },
  {
   "cell_type": "markdown",
   "metadata": {},
   "source": [
    "## Photometry analysis\n",
    "\n",
    "To show the stack image of the observation and see what `obs` contains:"
   ]
  },
  {
   "cell_type": "code",
   "execution_count": null,
   "metadata": {},
   "outputs": [],
   "source": [
    "obs.show_stars(size=8)"
   ]
  },
  {
   "cell_type": "code",
   "execution_count": null,
   "metadata": {},
   "outputs": [],
   "source": [
    "obs"
   ]
  },
  {
   "cell_type": "markdown",
   "metadata": {},
   "source": [
    "<div class=\"alert alert-info\">\n",
    "\n",
    "Note\n",
    "\n",
    "More details on the structure of these data products (and the representation above) in [data products description](./phot.ipynb)\n",
    "\n",
    "</div>"
   ]
  },
  {
   "cell_type": "markdown",
   "metadata": {},
   "source": [
    "If target was not specified in the reduction process, we need to specify it before producing our differential Photometry."
   ]
  },
  {
   "cell_type": "code",
   "execution_count": null,
   "metadata": {},
   "outputs": [],
   "source": [
    "obs.target = 0\n",
    "obs.broeg2005()\n",
    "obs.plot()\n",
    "plt.ylim(0.98, 1.02)"
   ]
  },
  {
   "cell_type": "markdown",
   "metadata": {},
   "source": [
    "<div class=\"alert alert-info\">\n",
    "\n",
    "Note\n",
    "\n",
    "We could also have picked the comparison stars ourselves using ``diff`` from `Observation`\n",
    "\n",
    "</div>"
   ]
  },
  {
   "cell_type": "markdown",
   "metadata": {},
   "source": [
    "We used the Broeg 2005 algorithm to build the differential light-curve and ended by plotting it. We can check the comparison stars with"
   ]
  },
  {
   "cell_type": "code",
   "execution_count": null,
   "metadata": {},
   "outputs": [],
   "source": [
    "obs.show_stars(size=8)"
   ]
  },
  {
   "cell_type": "markdown",
   "metadata": {},
   "source": [
    "and continue with further visualisation or analysis. All available plotting and analysis methods are described in `Observation`.\n",
    "\n",
    "To save your analysis into the same phot file"
   ]
  },
  {
   "cell_type": "code",
   "execution_count": null,
   "metadata": {},
   "outputs": [],
   "source": [
    "obs.save(f\"{obs.label}.phot\")"
   ]
  },
  {
   "cell_type": "markdown",
   "metadata": {},
   "source": [
    "## Some more details\n",
    "\n",
    "### `Observation` plots\n",
    "\n",
    "From the `Observation` object many things can be plotted. For example here are the comparison light curves as well as the systematics data:"
   ]
  },
  {
   "cell_type": "code",
   "execution_count": null,
   "metadata": {},
   "outputs": [],
   "source": [
    "plt.figure(figsize=(8, 7))\n",
    "\n",
    "plt.subplot(121)\n",
    "obs.plot_comps_lcs()\n",
    "\n",
    "plt.subplot(122)\n",
    "obs.plot_systematics()"
   ]
  },
  {
   "cell_type": "markdown",
   "metadata": {},
   "source": [
    "here is another useful one showing the raw fluxes as well as the artificial light curve (a weighted mean of the comparison stars - see Broeg 2005 paper)"
   ]
  },
  {
   "cell_type": "code",
   "execution_count": null,
   "metadata": {},
   "outputs": [],
   "source": [
    "plt.figure(figsize=(6, 5))\n",
    "obs.plot_raw_diff()"
   ]
  },
  {
   "cell_type": "markdown",
   "metadata": {},
   "source": [
    "To see all possible plotting options check the `Observation` API"
   ]
  }
 ],
 "metadata": {
  "jupytext": {
   "encoding": "# -*- coding: utf-8 -*-"
  },
  "kernelspec": {
   "display_name": "Python 3 (ipykernel)",
   "language": "python",
   "name": "python3"
  },
  "language_info": {
   "codemirror_mode": {
    "name": "ipython",
    "version": 3
   },
   "file_extension": ".py",
   "mimetype": "text/x-python",
   "name": "python",
   "nbconvert_exporter": "python",
   "pygments_lexer": "ipython3",
   "version": "3.9.10"
  }
 },
 "nbformat": 4,
 "nbformat_minor": 4
}
