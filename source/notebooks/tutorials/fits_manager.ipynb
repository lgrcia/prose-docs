{
 "cells": [
  {
   "cell_type": "markdown",
   "id": "united-copper",
   "metadata": {
    "tags": []
   },
   "source": [
    "# Fits manager"
   ]
  },
  {
   "cell_type": "code",
   "execution_count": 1,
   "id": "forward-manchester",
   "metadata": {
    "execution": {
     "iopub.execute_input": "2022-07-28T15:12:51.411504Z",
     "iopub.status.busy": "2022-07-28T15:12:51.411280Z",
     "iopub.status.idle": "2022-07-28T15:12:56.990414Z",
     "shell.execute_reply": "2022-07-28T15:12:56.989656Z"
    }
   },
   "outputs": [],
   "source": [
    "from prose import FitsManager, Telescope\n",
    "from prose import tutorials"
   ]
  },
  {
   "cell_type": "markdown",
   "id": "native-banks",
   "metadata": {},
   "source": [
    "Astronomical observations often generate highly disorganised fits images folders. To know the content of these files, file names can be used but have their limitations. At the end it is not rare to start opening these files to acces the information in their headers.\n",
    "\n",
    "To solve this issue, prose features the `FitsManager` object, a conveniant tool to ease the sorting process."
   ]
  },
  {
   "cell_type": "markdown",
   "id": "wanted-forestry",
   "metadata": {},
   "source": [
    "## Generating fake fits\n",
    "\n",
    "To demonstrate the use of the FITS manager, lets' generate a set of fake data from telescope `A` and `B`, defined with"
   ]
  },
  {
   "cell_type": "code",
   "execution_count": 2,
   "id": "grateful-arrangement",
   "metadata": {
    "execution": {
     "iopub.execute_input": "2022-07-28T15:12:56.993522Z",
     "iopub.status.busy": "2022-07-28T15:12:56.993277Z",
     "iopub.status.idle": "2022-07-28T15:12:57.094718Z",
     "shell.execute_reply": "2022-07-28T15:12:57.094217Z"
    }
   },
   "outputs": [
    {
     "name": "stdout",
     "output_type": "stream",
     "text": [
      "Telescope 'a' saved\n",
      "Telescope 'b' saved\n"
     ]
    }
   ],
   "source": [
    "_ = Telescope(dict(name=\"A\"))\n",
    "_ = Telescope(dict(name=\"B\"))"
   ]
  },
  {
   "cell_type": "markdown",
   "id": "turkish-franchise",
   "metadata": {},
   "source": [
    "Images will be located in a single folder, featuring different sizes, filters and associated calibration files, with no way to distinguish them from their file names"
   ]
  },
  {
   "cell_type": "code",
   "execution_count": 3,
   "id": "liquid-richards",
   "metadata": {
    "execution": {
     "iopub.execute_input": "2022-07-28T15:12:57.097276Z",
     "iopub.status.busy": "2022-07-28T15:12:57.097091Z",
     "iopub.status.idle": "2022-07-28T15:12:57.181557Z",
     "shell.execute_reply": "2022-07-28T15:12:57.181052Z"
    }
   },
   "outputs": [],
   "source": [
    "destination = \"./fake_observations\"\n",
    "tutorials.disorganised_folder(destination)"
   ]
  },
  {
   "cell_type": "markdown",
   "id": "traditional-defendant",
   "metadata": {},
   "source": [
    "## The Fits Manager object"
   ]
  },
  {
   "cell_type": "markdown",
   "id": "guided-bride",
   "metadata": {},
   "source": [
    "To dig into these disorganised folder, let's instantiate a `FitsManager` object"
   ]
  },
  {
   "cell_type": "code",
   "execution_count": 4,
   "id": "distinguished-trader",
   "metadata": {
    "execution": {
     "iopub.execute_input": "2022-07-28T15:12:57.184466Z",
     "iopub.status.busy": "2022-07-28T15:12:57.184279Z",
     "iopub.status.idle": "2022-07-28T15:12:57.267712Z",
     "shell.execute_reply": "2022-07-28T15:12:57.267175Z"
    }
   },
   "outputs": [
    {
     "name": "stderr",
     "output_type": "stream",
     "text": [
      "\u001b[38;5;12mRUN\u001b[0m Parsing FITS: 100%|\u001b[38;5;12m████████████████████\u001b[0m| 28/28 [00:00<00:00, 772.40images/s]\u001b[0m\n"
     ]
    },
    {
     "data": {
      "text/html": [
       "<div>\n",
       "<style scoped>\n",
       "    .dataframe tbody tr th:only-of-type {\n",
       "        vertical-align: middle;\n",
       "    }\n",
       "\n",
       "    .dataframe tbody tr th {\n",
       "        vertical-align: top;\n",
       "    }\n",
       "\n",
       "    .dataframe thead th {\n",
       "        text-align: right;\n",
       "    }\n",
       "</style>\n",
       "<table border=\"1\" class=\"dataframe\">\n",
       "  <thead>\n",
       "    <tr style=\"text-align: right;\">\n",
       "      <th></th>\n",
       "      <th>date</th>\n",
       "      <th>telescope</th>\n",
       "      <th>filter</th>\n",
       "      <th>type</th>\n",
       "      <th>target</th>\n",
       "      <th>width</th>\n",
       "      <th>height</th>\n",
       "      <th>files</th>\n",
       "    </tr>\n",
       "    <tr>\n",
       "      <th>id</th>\n",
       "      <th></th>\n",
       "      <th></th>\n",
       "      <th></th>\n",
       "      <th></th>\n",
       "      <th></th>\n",
       "      <th></th>\n",
       "      <th></th>\n",
       "      <th></th>\n",
       "    </tr>\n",
       "  </thead>\n",
       "  <tbody>\n",
       "    <tr>\n",
       "      <th>5</th>\n",
       "      <td>2022-07-28</td>\n",
       "      <td>A</td>\n",
       "      <td></td>\n",
       "      <td>dark</td>\n",
       "      <td>prose</td>\n",
       "      <td>10</td>\n",
       "      <td>10</td>\n",
       "      <td>2</td>\n",
       "    </tr>\n",
       "    <tr>\n",
       "      <th>6</th>\n",
       "      <td>2022-07-28</td>\n",
       "      <td>A</td>\n",
       "      <td>a</td>\n",
       "      <td>light</td>\n",
       "      <td>prose</td>\n",
       "      <td>10</td>\n",
       "      <td>10</td>\n",
       "      <td>5</td>\n",
       "    </tr>\n",
       "    <tr>\n",
       "      <th>3</th>\n",
       "      <td>2022-07-28</td>\n",
       "      <td>A</td>\n",
       "      <td>ab</td>\n",
       "      <td>light</td>\n",
       "      <td>prose</td>\n",
       "      <td>10</td>\n",
       "      <td>10</td>\n",
       "      <td>5</td>\n",
       "    </tr>\n",
       "    <tr>\n",
       "      <th>2</th>\n",
       "      <td>2022-07-28</td>\n",
       "      <td>A</td>\n",
       "      <td>b</td>\n",
       "      <td>flat</td>\n",
       "      <td>prose</td>\n",
       "      <td>10</td>\n",
       "      <td>10</td>\n",
       "      <td>2</td>\n",
       "    </tr>\n",
       "    <tr>\n",
       "      <th>1</th>\n",
       "      <td>2022-07-28</td>\n",
       "      <td>A</td>\n",
       "      <td>b</td>\n",
       "      <td>light</td>\n",
       "      <td>prose</td>\n",
       "      <td>10</td>\n",
       "      <td>10</td>\n",
       "      <td>5</td>\n",
       "    </tr>\n",
       "    <tr>\n",
       "      <th>8</th>\n",
       "      <td>2022-07-28</td>\n",
       "      <td>A</td>\n",
       "      <td>c</td>\n",
       "      <td>dark</td>\n",
       "      <td>prose</td>\n",
       "      <td>10</td>\n",
       "      <td>10</td>\n",
       "      <td>2</td>\n",
       "    </tr>\n",
       "    <tr>\n",
       "      <th>7</th>\n",
       "      <td>2022-07-28</td>\n",
       "      <td>A</td>\n",
       "      <td>c</td>\n",
       "      <td>flat</td>\n",
       "      <td>prose</td>\n",
       "      <td>10</td>\n",
       "      <td>10</td>\n",
       "      <td>2</td>\n",
       "    </tr>\n",
       "    <tr>\n",
       "      <th>4</th>\n",
       "      <td>2022-07-28</td>\n",
       "      <td>B</td>\n",
       "      <td>b</td>\n",
       "      <td>light</td>\n",
       "      <td>prose</td>\n",
       "      <td>10</td>\n",
       "      <td>20</td>\n",
       "      <td>5</td>\n",
       "    </tr>\n",
       "  </tbody>\n",
       "</table>\n",
       "</div>"
      ],
      "text/plain": [
       "          date telescope filter   type target  width  height  files\n",
       "id                                                                 \n",
       "5   2022-07-28         A          dark  prose     10      10      2\n",
       "6   2022-07-28         A      a  light  prose     10      10      5\n",
       "3   2022-07-28         A     ab  light  prose     10      10      5\n",
       "2   2022-07-28         A      b   flat  prose     10      10      2\n",
       "1   2022-07-28         A      b  light  prose     10      10      5\n",
       "8   2022-07-28         A      c   dark  prose     10      10      2\n",
       "7   2022-07-28         A      c   flat  prose     10      10      2\n",
       "4   2022-07-28         B      b  light  prose     10      20      5"
      ]
     },
     "execution_count": 4,
     "metadata": {},
     "output_type": "execute_result"
    }
   ],
   "source": [
    "fm = FitsManager(destination)\n",
    "fm"
   ]
  },
  {
   "cell_type": "markdown",
   "id": "3a248c74-9eca-48ed-9f76-3298a6e4c6e8",
   "metadata": {},
   "source": [
    "The keywords of all images have been parsed and associated with different telescopes. The advantage is that specific keywords from specific telescopes are recognized and standardized to common namings. This is usefull to define telescope agnostic pipelines (see for example the [photometry tutotial](./photometry.ipynb))."
   ]
  },
  {
   "cell_type": "markdown",
   "id": "exempt-spine",
   "metadata": {},
   "source": [
    "## Picking an observation\n",
    "\n",
    "From there let say we want to keep the files from an observation using its `id`"
   ]
  },
  {
   "cell_type": "code",
   "execution_count": 5,
   "id": "falling-language",
   "metadata": {
    "execution": {
     "iopub.execute_input": "2022-07-28T15:12:57.270390Z",
     "iopub.status.busy": "2022-07-28T15:12:57.270208Z",
     "iopub.status.idle": "2022-07-28T15:12:57.300954Z",
     "shell.execute_reply": "2022-07-28T15:12:57.300490Z"
    }
   },
   "outputs": [
    {
     "name": "stderr",
     "output_type": "stream",
     "text": [
      "/Users/lgrcia/mambaforge/envs/prose/lib/python3.9/site-packages/pandas/core/indexes/base.py:6982: FutureWarning: In a future version, the Index constructor will not infer numeric dtypes when passed object-dtype sequences (matching Series behavior)\n",
      "  return Index(sequences[0], name=names)\n"
     ]
    },
    {
     "data": {
      "text/html": [
       "<div>\n",
       "<style scoped>\n",
       "    .dataframe tbody tr th:only-of-type {\n",
       "        vertical-align: middle;\n",
       "    }\n",
       "\n",
       "    .dataframe tbody tr th {\n",
       "        vertical-align: top;\n",
       "    }\n",
       "\n",
       "    .dataframe thead th {\n",
       "        text-align: right;\n",
       "    }\n",
       "</style>\n",
       "<table border=\"1\" class=\"dataframe\">\n",
       "  <thead>\n",
       "    <tr style=\"text-align: right;\">\n",
       "      <th></th>\n",
       "      <th>date</th>\n",
       "      <th>telescope</th>\n",
       "      <th>filter</th>\n",
       "      <th>type</th>\n",
       "      <th>target</th>\n",
       "      <th>width</th>\n",
       "      <th>height</th>\n",
       "      <th>exposure</th>\n",
       "      <th>files</th>\n",
       "    </tr>\n",
       "    <tr>\n",
       "      <th>id</th>\n",
       "      <th></th>\n",
       "      <th></th>\n",
       "      <th></th>\n",
       "      <th></th>\n",
       "      <th></th>\n",
       "      <th></th>\n",
       "      <th></th>\n",
       "      <th></th>\n",
       "      <th></th>\n",
       "    </tr>\n",
       "  </thead>\n",
       "  <tbody>\n",
       "    <tr>\n",
       "      <th>1</th>\n",
       "      <td>2022-07-28</td>\n",
       "      <td>A</td>\n",
       "      <td>b</td>\n",
       "      <td>light</td>\n",
       "      <td>prose</td>\n",
       "      <td>10</td>\n",
       "      <td>10</td>\n",
       "      <td>1.0</td>\n",
       "      <td>5</td>\n",
       "    </tr>\n",
       "    <tr>\n",
       "      <th>5</th>\n",
       "      <td>2022-07-28</td>\n",
       "      <td>A</td>\n",
       "      <td></td>\n",
       "      <td>dark</td>\n",
       "      <td>prose</td>\n",
       "      <td>10</td>\n",
       "      <td>10</td>\n",
       "      <td>1.0</td>\n",
       "      <td>2</td>\n",
       "    </tr>\n",
       "    <tr>\n",
       "      <th>8</th>\n",
       "      <td>2022-07-28</td>\n",
       "      <td>A</td>\n",
       "      <td>c</td>\n",
       "      <td>dark</td>\n",
       "      <td>prose</td>\n",
       "      <td>10</td>\n",
       "      <td>10</td>\n",
       "      <td>8.0</td>\n",
       "      <td>2</td>\n",
       "    </tr>\n",
       "    <tr>\n",
       "      <th>2</th>\n",
       "      <td>2022-07-28</td>\n",
       "      <td>A</td>\n",
       "      <td>b</td>\n",
       "      <td>flat</td>\n",
       "      <td>prose</td>\n",
       "      <td>10</td>\n",
       "      <td>10</td>\n",
       "      <td>1.0</td>\n",
       "      <td>2</td>\n",
       "    </tr>\n",
       "  </tbody>\n",
       "</table>\n",
       "</div>"
      ],
      "text/plain": [
       "          date telescope filter   type target width height exposure files\n",
       "id                                                                       \n",
       "1   2022-07-28         A      b  light  prose    10     10      1.0     5\n",
       "5   2022-07-28         A          dark  prose    10     10      1.0     2\n",
       "8   2022-07-28         A      c   dark  prose    10     10      8.0     2\n",
       "2   2022-07-28         A      b   flat  prose    10     10      1.0     2"
      ]
     },
     "metadata": {},
     "output_type": "display_data"
    }
   ],
   "source": [
    "files = fm.observation_files(1)"
   ]
  },
  {
   "cell_type": "markdown",
   "id": "driving-romantic",
   "metadata": {},
   "source": [
    "flats with the right filter have been kept, as well as darks"
   ]
  },
  {
   "cell_type": "markdown",
   "id": "completed-beaver",
   "metadata": {},
   "source": [
    "### Telescope specific keywords"
   ]
  },
  {
   "cell_type": "markdown",
   "id": "precise-scheduling",
   "metadata": {},
   "source": [
    "The information retained by `FitsManager` was taken from images headers. To know which keywords to use, we had to register telescopes `A` and `B` with a dictionary. Whenever their names appear in a fits header, their dictionary is loaded to read their header keywords.\n",
    "\n",
    "Since we just specified the telescope names all the rest is default. For example the filter is taken from the keyword `FILTER` and the image type from `IMAGETYP`, knowing that `IMAGETYP=light` is a light (a.k.a science) frame. These keywords can be set in more details when registering the telescope.\n",
    "\n",
    "For more details, chcek the `Telescope` object"
   ]
  },
  {
   "cell_type": "code",
   "execution_count": 6,
   "id": "useful-steps",
   "metadata": {
    "execution": {
     "iopub.execute_input": "2022-07-28T15:12:57.303547Z",
     "iopub.status.busy": "2022-07-28T15:12:57.303373Z",
     "iopub.status.idle": "2022-07-28T15:12:57.308332Z",
     "shell.execute_reply": "2022-07-28T15:12:57.307869Z"
    }
   },
   "outputs": [],
   "source": [
    "# hidden\n",
    "from shutil import rmtree\n",
    "\n",
    "rmtree(destination)"
   ]
  }
 ],
 "metadata": {
  "jupytext": {
   "formats": "ipynb,py:percent"
  },
  "kernelspec": {
   "display_name": "Python 3 (ipykernel)",
   "language": "python",
   "name": "python3"
  },
  "language_info": {
   "codemirror_mode": {
    "name": "ipython",
    "version": 3
   },
   "file_extension": ".py",
   "mimetype": "text/x-python",
   "name": "python",
   "nbconvert_exporter": "python",
   "pygments_lexer": "ipython3",
   "version": "3.9.10"
  }
 },
 "nbformat": 4,
 "nbformat_minor": 5
}
